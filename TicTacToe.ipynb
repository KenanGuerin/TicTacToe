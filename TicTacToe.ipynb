{
 "cells": [
  {
   "cell_type": "code",
   "execution_count": 24,
   "id": "4b65f638-20cf-4c72-a98f-b55c0a1ddaf1",
   "metadata": {},
   "outputs": [
    {
     "name": "stdout",
     "output_type": "stream",
     "text": [
      "            [[], [], []]\n",
      "            [[], [], []]\n",
      "            [[], [], []]\n"
     ]
    }
   ],
   "source": [
    "L1=[[],[],[]]\n",
    "L2=[[],[],[]]\n",
    "L3=[[],[],[]]\n",
    "L=[L1,L2,L3]\n",
    "print(\"           \",L[0])\n",
    "print(\"           \",L[1])\n",
    "print(\"           \",L[2])\n",
    "Liste_rempli=[]\n",
    "Liste_dispo=[1,2,3,4,5,6,7,8,9]\n",
    "joueur=0\n",
    "\t\n",
    "def ajout(Liste,nb):\n",
    "    global Liste_rempli,Liste_dispo,joueur\n",
    "    if joueur==0:\n",
    "        joueur=1\n",
    "    else:\n",
    "        joueur=0\n",
    "    if nb in Liste:\n",
    "        print(\" ERREUR la case \",nb,\" est deja remplie\")\n",
    "    elif nb < 1 or nb > 9:\n",
    "        print(\" ERREUR \",nb,\"n'est pas compris entre 1 et 9\")\n",
    "    else:\n",
    "        Liste_rempli.append(nb)\n",
    "        Liste_dispo.remove(nb)\n",
    "    if nb == 1:\n",
    "        L[0][0]=joueur\n",
    "    elif nb == 2:\n",
    "        L[0][1]=joueur\n",
    "    elif nb == 3:\n",
    "        L[0][2]=joueur\n",
    "    elif nb == 4:\n",
    "        L[1][0]=joueur\n",
    "    elif nb == 5:\n",
    "        L[1][1]=joueur\n",
    "    elif nb ==  6:\n",
    "        L[1][2]=joueur\n",
    "    elif nb == 7:\n",
    "        L[2][0]=joueur\n",
    "    elif nb == 8:\n",
    "        L[2][1]=joueur\n",
    "    elif nb == 9:\n",
    "        L[2][2]=joueur\n",
    "    return L\n",
    "\n",
    "\n",
    "def verificateur(L): #verifie si la liste contient une combinaison gagnante , si oui retourne (joueur ,\" a gagné\")\n",
    "    global Liste_rempli,Liste_dispo,joueur,nb\n",
    "    for i in range (0,3): # colonne\n",
    "        if L[0][i]==L[1][i]==L[2][i]!=[]:\n",
    "            return (joueur ,\" a gagné\")\n",
    "\t\n",
    "    for l in L : # ligne\n",
    "        if l[0]==l[1]==l[2]!=[]:\n",
    "            return (joueur ,\" a gagné\")\n",
    "    if L[0][0]==L[1][1]==L[2][2]!=[] or L[2][0]==L[1][1]==L[0][2]!=[]:\n",
    "        return (joueur ,\" a gagné\")\n",
    "    return L\n",
    "\n",
    "\n",
    "def jouer(L):\n",
    "    global Liste_rempli,Liste_dispo,joueur,nb\n",
    "    global Liste_dispo , joueur\n",
    "    while len(Liste_dispo)!=0:\n",
    "        print(\"Les cases libres sont : \",Liste_dispo)\n",
    "        print(L[0])\n",
    "        print(L[1])\n",
    "        print(L[2])\n",
    "        nb=int(input(\" Entrez la case ou vous voulez jouer\"))\n",
    "        ajout(L,nb)\n",
    "        result = verificateur(L)\n",
    "        if isinstance(result, tuple):\n",
    "            winner, _ = result\n",
    "            print(L[0])\n",
    "            print(L[1])\n",
    "            print(L[2])\n",
    "            return f\"{winner} a gagné\"\n",
    "    return \"Égalité\"\n",
    "jouer(L)"
   ]
  },
  {
   "cell_type": "code",
   "execution_count": null,
   "id": "4159a261-0a2c-4ff1-bf2e-6cbad1ae2ed6",
   "metadata": {},
   "outputs": [],
   "source": []
  },
  {
   "cell_type": "code",
   "execution_count": null,
   "id": "febf79dc-aaa8-4b74-958e-835fbb332509",
   "metadata": {},
   "outputs": [],
   "source": []
  }
 ],
 "metadata": {
  "kernelspec": {
   "display_name": "Python 3 (ipykernel)",
   "language": "python",
   "name": "python3"
  },
  "language_info": {
   "codemirror_mode": {
    "name": "ipython",
    "version": 3
   },
   "file_extension": ".py",
   "mimetype": "text/x-python",
   "name": "python",
   "nbconvert_exporter": "python",
   "pygments_lexer": "ipython3",
   "version": "3.12.0"
  }
 },
 "nbformat": 4,
 "nbformat_minor": 5
}
